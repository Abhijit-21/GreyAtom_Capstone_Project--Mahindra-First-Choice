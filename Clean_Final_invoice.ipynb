{
 "cells": [
  {
   "cell_type": "code",
   "execution_count": 23,
   "metadata": {},
   "outputs": [],
   "source": [
    "import pandas as pd\n",
    "import numpy as np\n",
    "import matplotlib.pyplot as plt\n",
    "import seaborn as sns\n",
    "%matplotlib inline\n"
   ]
  },
  {
   "cell_type": "code",
   "execution_count": 24,
   "metadata": {},
   "outputs": [],
   "source": [
    "Final_invoice = pd.read_csv(r'C:\\Users\\ckatkaa\\Desktop\\jupyter notebook\\Capstone project  Mahindra Group\\Mahindra First Choice Dataset\\Final_invoice.csv')"
   ]
  },
  {
   "cell_type": "code",
   "execution_count": 25,
   "metadata": {},
   "outputs": [
    {
     "data": {
      "text/plain": [
       "(492314, 59)"
      ]
     },
     "execution_count": 25,
     "metadata": {},
     "output_type": "execute_result"
    }
   ],
   "source": [
    "Final_invoice.shape"
   ]
  },
  {
   "cell_type": "code",
   "execution_count": 26,
   "metadata": {},
   "outputs": [
    {
     "name": "stdout",
     "output_type": "stream",
     "text": [
      "<class 'pandas.core.frame.DataFrame'>\n",
      "RangeIndex: 492314 entries, 0 to 492313\n",
      "Data columns (total 59 columns):\n",
      "Unnamed: 0              492314 non-null int64\n",
      "Amt Rcvd From Custom    295028 non-null float64\n",
      "Amt Rcvd From Ins Co    295028 non-null float64\n",
      "Area / Locality         468424 non-null object\n",
      "CGST(14%)               295028 non-null float64\n",
      "CGST(2.5%)              295028 non-null float64\n",
      "CGST(6%)                295028 non-null float64\n",
      "CGST(9%)                295028 non-null float64\n",
      "CITY                    492313 non-null object\n",
      "Cash /Cashless Type     27420 non-null object\n",
      "Claim No.               4804 non-null object\n",
      "Cust Type               492314 non-null object\n",
      "Customer No.            492314 non-null object\n",
      "District                492314 non-null object\n",
      "Expiry Date             22231 non-null object\n",
      "Gate Pass Date          40915 non-null object\n",
      "Gate Pass Time          492314 non-null object\n",
      "IGST(12%)               295028 non-null float64\n",
      "IGST(18%)               295028 non-null float64\n",
      "IGST(28%)               295028 non-null float64\n",
      "IGST(5%)                295028 non-null float64\n",
      "Insurance Company       23591 non-null object\n",
      "Invoice Date            492314 non-null object\n",
      "Invoice No              492314 non-null int64\n",
      "Invoice Time            492314 non-null object\n",
      "Job Card No             492314 non-null int64\n",
      "JobCard Date            492314 non-null object\n",
      "JobCard Time            492314 non-null object\n",
      "KMs Reading             492314 non-null int64\n",
      "Labour Total            492314 non-null float64\n",
      "Make                    492314 non-null object\n",
      "Misc Total              492314 non-null float64\n",
      "Model                   490789 non-null object\n",
      "ODN No.                 295028 non-null float64\n",
      "OSL Total               492314 non-null float64\n",
      "Order Type              492314 non-null object\n",
      "Outstanding Amt         295028 non-null float64\n",
      "Parts Total             492314 non-null float64\n",
      "Pin code                492314 non-null int64\n",
      "Plant                   492314 non-null object\n",
      "Plant Name1             492314 non-null object\n",
      "Policy no.              16882 non-null object\n",
      "Print Status            492314 non-null object\n",
      "Recovrbl Exp            492314 non-null float64\n",
      "Regn No                 492298 non-null object\n",
      "SGST/UGST(14%)          295028 non-null float64\n",
      "SGST/UGST(2.5%)         295028 non-null float64\n",
      "SGST/UGST(6%)           295028 non-null float64\n",
      "SGST/UGST(9%)           295028 non-null float64\n",
      "Service Advisor Name    0 non-null float64\n",
      "TDS amount              295028 non-null float64\n",
      "Technician Name         255480 non-null object\n",
      "Total Amt Wtd Tax.      492314 non-null float64\n",
      "Total CGST              295028 non-null float64\n",
      "Total GST               295028 non-null float64\n",
      "Total IGST              295028 non-null float64\n",
      "Total SGST/UGST         295028 non-null float64\n",
      "Total Value             295028 non-null float64\n",
      "User ID                 492314 non-null object\n",
      "dtypes: float64(29), int64(5), object(25)\n",
      "memory usage: 221.6+ MB\n"
     ]
    }
   ],
   "source": [
    "Final_invoice.info()"
   ]
  },
  {
   "cell_type": "code",
   "execution_count": 27,
   "metadata": {},
   "outputs": [
    {
     "name": "stdout",
     "output_type": "stream",
     "text": [
      "                      total_missing_values_per_row  percentage\n",
      "Amt Rcvd From Custom                        197286   40.073205\n",
      "Amt Rcvd From Ins Co                        197286   40.073205\n",
      "Area / Locality                              23890    4.852594\n",
      "CGST(14%)                                   197286   40.073205\n",
      "CGST(2.5%)                                  197286   40.073205\n",
      "CGST(6%)                                    197286   40.073205\n",
      "CGST(9%)                                    197286   40.073205\n",
      "CITY                                             1    0.000203\n",
      "Cash /Cashless Type                         464894   94.430384\n",
      "Claim No.                                   487510   99.024200\n",
      "Cust Type                                        0    0.000000\n",
      "Customer No.                                     0    0.000000\n",
      "District                                         0    0.000000\n",
      "Expiry Date                                 470083   95.484386\n",
      "Gate Pass Date                              451399   91.689247\n",
      "Gate Pass Time                                   0    0.000000\n",
      "IGST(12%)                                   197286   40.073205\n",
      "IGST(18%)                                   197286   40.073205\n",
      "IGST(28%)                                   197286   40.073205\n",
      "IGST(5%)                                    197286   40.073205\n",
      "Insurance Company                           468723   95.208140\n",
      "Invoice Date                                     0    0.000000\n",
      "Invoice No                                       0    0.000000\n",
      "Invoice Time                                     0    0.000000\n",
      "Job Card No                                      0    0.000000\n",
      "JobCard Date                                     0    0.000000\n",
      "JobCard Time                                     0    0.000000\n",
      "KMs Reading                                      0    0.000000\n",
      "Labour Total                                     0    0.000000\n",
      "Make                                             0    0.000000\n",
      "Misc Total                                       0    0.000000\n",
      "Model                                         1525    0.309762\n",
      "ODN No.                                     197286   40.073205\n",
      "OSL Total                                        0    0.000000\n",
      "Order Type                                       0    0.000000\n",
      "Outstanding Amt                             197286   40.073205\n",
      "Parts Total                                      0    0.000000\n",
      "Pin code                                         0    0.000000\n",
      "Plant                                            0    0.000000\n",
      "Plant Name1                                      0    0.000000\n",
      "Policy no.                                  475432   96.570888\n",
      "Print Status                                     0    0.000000\n",
      "Recovrbl Exp                                     0    0.000000\n",
      "Regn No                                         16    0.003250\n",
      "SGST/UGST(14%)                              197286   40.073205\n",
      "SGST/UGST(2.5%)                             197286   40.073205\n",
      "SGST/UGST(6%)                               197286   40.073205\n",
      "SGST/UGST(9%)                               197286   40.073205\n",
      "Service Advisor Name                        492314  100.000000\n",
      "TDS amount                                  197286   40.073205\n",
      "Technician Name                             236834   48.106290\n",
      "Total Amt Wtd Tax.                               0    0.000000\n",
      "Total CGST                                  197286   40.073205\n",
      "Total GST                                   197286   40.073205\n",
      "Total IGST                                  197286   40.073205\n",
      "Total SGST/UGST                             197286   40.073205\n",
      "Total Value                                 197286   40.073205\n",
      "Unnamed: 0                                       0    0.000000\n",
      "User ID                                          0    0.000000\n"
     ]
    },
    {
     "name": "stderr",
     "output_type": "stream",
     "text": [
      "C:\\Users\\ckatkaa\\AppData\\Local\\Continuum\\anaconda3\\lib\\site-packages\\ipykernel_launcher.py:5: FutureWarning: Sorting because non-concatenation axis is not aligned. A future version\n",
      "of pandas will change to not sort by default.\n",
      "\n",
      "To accept the future behavior, pass 'sort=False'.\n",
      "\n",
      "To retain the current behavior and silence the warning, pass 'sort=True'.\n",
      "\n",
      "  \"\"\"\n"
     ]
    }
   ],
   "source": [
    "# finding the null values and its percentage and then concat both\n",
    "\n",
    "total=Final_invoice.isnull().sum().sort_values(ascending=False)\n",
    "percentage = (total*100/Final_invoice.isnull().count()).sort_values(ascending=False)\n",
    "missing_data = pd.concat([total,percentage],axis=1,keys=['total_missing_values_per_row','percentage'])\n",
    "print(missing_data)"
   ]
  },
  {
   "cell_type": "markdown",
   "metadata": {},
   "source": [
    "Data Cleaning for invoice data"
   ]
  },
  {
   "cell_type": "code",
   "execution_count": 28,
   "metadata": {},
   "outputs": [],
   "source": [
    "# Dropping the not usefull columns for the invoice data\n",
    "Final_invoice = Final_invoice.drop(columns=['Amt Rcvd From Custom', 'Amt Rcvd From Ins Co','CGST(14%)','CGST(2.5%)','CGST(6%)','CGST(9%)','IGST(12%)','IGST(18%)','IGST(28%)','IGST(5%)','SGST/UGST(14%)',\n",
    "                                     'SGST/UGST(2.5%)', 'SGST/UGST(6%)','SGST/UGST(9%)','Total CGST','Total GST','Total IGST','Total SGST/UGST','Cash /Cashless Type','Claim No.','Expiry Date','Insurance Company','Gate Pass Date',\n",
    "                           'Policy no.','Service Advisor Name','Outstanding Amt','TDS amount','ODN No.'],axis = 1)"
   ]
  },
  {
   "cell_type": "code",
   "execution_count": 29,
   "metadata": {},
   "outputs": [
    {
     "name": "stdout",
     "output_type": "stream",
     "text": [
      "<class 'pandas.core.frame.DataFrame'>\n",
      "RangeIndex: 492314 entries, 0 to 492313\n",
      "Data columns (total 31 columns):\n",
      "Unnamed: 0            492314 non-null int64\n",
      "Area / Locality       468424 non-null object\n",
      "CITY                  492313 non-null object\n",
      "Cust Type             492314 non-null object\n",
      "Customer No.          492314 non-null object\n",
      "District              492314 non-null object\n",
      "Gate Pass Time        492314 non-null object\n",
      "Invoice Date          492314 non-null object\n",
      "Invoice No            492314 non-null int64\n",
      "Invoice Time          492314 non-null object\n",
      "Job Card No           492314 non-null int64\n",
      "JobCard Date          492314 non-null object\n",
      "JobCard Time          492314 non-null object\n",
      "KMs Reading           492314 non-null int64\n",
      "Labour Total          492314 non-null float64\n",
      "Make                  492314 non-null object\n",
      "Misc Total            492314 non-null float64\n",
      "Model                 490789 non-null object\n",
      "OSL Total             492314 non-null float64\n",
      "Order Type            492314 non-null object\n",
      "Parts Total           492314 non-null float64\n",
      "Pin code              492314 non-null int64\n",
      "Plant                 492314 non-null object\n",
      "Plant Name1           492314 non-null object\n",
      "Print Status          492314 non-null object\n",
      "Recovrbl Exp          492314 non-null float64\n",
      "Regn No               492298 non-null object\n",
      "Technician Name       255480 non-null object\n",
      "Total Amt Wtd Tax.    492314 non-null float64\n",
      "Total Value           295028 non-null float64\n",
      "User ID               492314 non-null object\n",
      "dtypes: float64(7), int64(5), object(19)\n",
      "memory usage: 116.4+ MB\n"
     ]
    }
   ],
   "source": [
    "Final_invoice.info()"
   ]
  },
  {
   "cell_type": "code",
   "execution_count": 30,
   "metadata": {},
   "outputs": [
    {
     "name": "stdout",
     "output_type": "stream",
     "text": [
      "                    total_missing_values_per_row  percentage\n",
      "Area / Locality                            23890    4.852594\n",
      "CITY                                           1    0.000203\n",
      "Cust Type                                      0    0.000000\n",
      "Customer No.                                   0    0.000000\n",
      "District                                       0    0.000000\n",
      "Gate Pass Time                                 0    0.000000\n",
      "Invoice Date                                   0    0.000000\n",
      "Invoice No                                     0    0.000000\n",
      "Invoice Time                                   0    0.000000\n",
      "Job Card No                                    0    0.000000\n",
      "JobCard Date                                   0    0.000000\n",
      "JobCard Time                                   0    0.000000\n",
      "KMs Reading                                    0    0.000000\n",
      "Labour Total                                   0    0.000000\n",
      "Make                                           0    0.000000\n",
      "Misc Total                                     0    0.000000\n",
      "Model                                       1525    0.309762\n",
      "OSL Total                                      0    0.000000\n",
      "Order Type                                     0    0.000000\n",
      "Parts Total                                    0    0.000000\n",
      "Pin code                                       0    0.000000\n",
      "Plant                                          0    0.000000\n",
      "Plant Name1                                    0    0.000000\n",
      "Print Status                                   0    0.000000\n",
      "Recovrbl Exp                                   0    0.000000\n",
      "Regn No                                       16    0.003250\n",
      "Technician Name                           236834   48.106290\n",
      "Total Amt Wtd Tax.                             0    0.000000\n",
      "Total Value                               197286   40.073205\n",
      "Unnamed: 0                                     0    0.000000\n",
      "User ID                                        0    0.000000\n"
     ]
    },
    {
     "name": "stderr",
     "output_type": "stream",
     "text": [
      "C:\\Users\\ckatkaa\\AppData\\Local\\Continuum\\anaconda3\\lib\\site-packages\\ipykernel_launcher.py:3: FutureWarning: Sorting because non-concatenation axis is not aligned. A future version\n",
      "of pandas will change to not sort by default.\n",
      "\n",
      "To accept the future behavior, pass 'sort=False'.\n",
      "\n",
      "To retain the current behavior and silence the warning, pass 'sort=True'.\n",
      "\n",
      "  This is separate from the ipykernel package so we can avoid doing imports until\n"
     ]
    }
   ],
   "source": [
    "total=Final_invoice.isnull().sum().sort_values(ascending=False)\n",
    "percentage = (total*100/Final_invoice.isnull().count()).sort_values(ascending=False)\n",
    "missing_data = pd.concat([total,percentage],axis=1,keys=['total_missing_values_per_row','percentage'])\n",
    "print(missing_data)"
   ]
  },
  {
   "cell_type": "markdown",
   "metadata": {},
   "source": [
    "Cleaning \"Area/Locality\", \"City\" and \"District\" columns using pgeocode library"
   ]
  },
  {
   "cell_type": "code",
   "execution_count": 31,
   "metadata": {},
   "outputs": [],
   "source": [
    "#!pip install pgeocode\n",
    "import pgeocode\n",
    "nomi = pgeocode.Nominatim('IN')"
   ]
  },
  {
   "cell_type": "code",
   "execution_count": 32,
   "metadata": {},
   "outputs": [],
   "source": [
    "Final_invoice['Clean_CITY']=nomi.query_postal_code(np.array(Final_invoice['Pin code'].astype(str))).county_name\n",
    "Final_invoice['Clean_District']=nomi.query_postal_code(np.array(Final_invoice['Pin code'].astype(str))).state_name\n",
    "Final_invoice['Clean_Location_Area']=nomi.query_postal_code(np.array(Final_invoice['Pin code'].astype(str))).place_name"
   ]
  },
  {
   "cell_type": "code",
   "execution_count": 33,
   "metadata": {},
   "outputs": [
    {
     "data": {
      "text/plain": [
       "47246"
      ]
     },
     "execution_count": 33,
     "metadata": {},
     "output_type": "execute_result"
    }
   ],
   "source": [
    "Final_invoice['Clean_CITY'].isnull().sum()"
   ]
  },
  {
   "cell_type": "code",
   "execution_count": 34,
   "metadata": {},
   "outputs": [
    {
     "data": {
      "text/plain": [
       "47246"
      ]
     },
     "execution_count": 34,
     "metadata": {},
     "output_type": "execute_result"
    }
   ],
   "source": [
    "Final_invoice['Clean_District'].isnull().sum()"
   ]
  },
  {
   "cell_type": "code",
   "execution_count": 35,
   "metadata": {},
   "outputs": [],
   "source": [
    "# fill na for Model column with unknown\n",
    "Final_invoice['Model'] = Final_invoice['Model'].fillna('Unknown')"
   ]
  },
  {
   "cell_type": "code",
   "execution_count": 36,
   "metadata": {},
   "outputs": [
    {
     "data": {
      "text/plain": [
       "0"
      ]
     },
     "execution_count": 36,
     "metadata": {},
     "output_type": "execute_result"
    }
   ],
   "source": [
    "Final_invoice['Model'].isnull().sum()"
   ]
  },
  {
   "cell_type": "code",
   "execution_count": 37,
   "metadata": {},
   "outputs": [],
   "source": [
    "# Load the plant data set for to fill na for the invoice city data\n",
    "plant_master = pd.read_excel(r'C:\\Users\\ckatkaa\\Desktop\\jupyter notebook\\Capstone project  Mahindra Group\\Mahindra First Choice Dataset\\Plant Master.xlsx')"
   ]
  },
  {
   "cell_type": "code",
   "execution_count": 38,
   "metadata": {},
   "outputs": [],
   "source": [
    "mapping_city_plant=dict(zip(plant_master['Plant'],plant_master['City']))\n",
    "mapping_state_plant=dict(zip(plant_master['Plant'],plant_master['State']))\n",
    "mapping_state_plant=dict(zip(plant_master['Plant'],plant_master['State']))\n"
   ]
  },
  {
   "cell_type": "code",
   "execution_count": 39,
   "metadata": {},
   "outputs": [],
   "source": [
    "Final_invoice['Clean_CITY']=np.where(pd.isnull(Final_invoice['Clean_CITY']),Final_invoice['Plant'].map(mapping_city_plant),\n",
    "                                         Final_invoice['Clean_CITY'])\n",
    "Final_invoice['Clean_District']=np.where(pd.isnull(Final_invoice['Clean_District']),\n",
    "                                          Final_invoice['Plant'].map(mapping_state_plant),Final_invoice['Clean_District'])\n",
    "Final_invoice['Clean_Location_Area']=np.where(pd.isnull(Final_invoice['Clean_Location_Area']),Final_invoice['Plant'].map(mapping_city_plant),\n",
    "                                         Final_invoice['Clean_CITY'])"
   ]
  },
  {
   "cell_type": "code",
   "execution_count": 40,
   "metadata": {},
   "outputs": [
    {
     "data": {
      "text/plain": [
       "26335"
      ]
     },
     "execution_count": 40,
     "metadata": {},
     "output_type": "execute_result"
    }
   ],
   "source": [
    "Final_invoice['Clean_District'].isnull().sum()"
   ]
  },
  {
   "cell_type": "code",
   "execution_count": 41,
   "metadata": {},
   "outputs": [],
   "source": [
    "Final_invoice['Clean_CITY']=np.where(pd.isnull(Final_invoice['Clean_CITY']),Final_invoice['CITY'],\n",
    "                                         Final_invoice['Clean_CITY'])\n",
    "Final_invoice['Clean_District']=np.where(pd.isnull(Final_invoice['Clean_District']),\n",
    "                                          Final_invoice['CITY'],Final_invoice['Clean_District'])"
   ]
  },
  {
   "cell_type": "code",
   "execution_count": 42,
   "metadata": {},
   "outputs": [
    {
     "data": {
      "text/plain": [
       "0"
      ]
     },
     "execution_count": 42,
     "metadata": {},
     "output_type": "execute_result"
    }
   ],
   "source": [
    "Final_invoice['Clean_District'].isnull().sum()"
   ]
  },
  {
   "cell_type": "code",
   "execution_count": 46,
   "metadata": {},
   "outputs": [],
   "source": [
    "# Droping the uneccessory columns\n",
    "Final_invoice = Final_invoice.drop(columns=['Area / Locality','CITY','District','Regn No','Technician Name','Total Value','Clean_Location_Area'],axis = 1)"
   ]
  },
  {
   "cell_type": "code",
   "execution_count": 47,
   "metadata": {},
   "outputs": [
    {
     "name": "stdout",
     "output_type": "stream",
     "text": [
      "                    total_missing_values_per_row  percentage\n",
      "Clean_CITY                                     0         0.0\n",
      "Clean_District                                 0         0.0\n",
      "Cust Type                                      0         0.0\n",
      "Customer No.                                   0         0.0\n",
      "Gate Pass Time                                 0         0.0\n",
      "Invoice Date                                   0         0.0\n",
      "Invoice No                                     0         0.0\n",
      "Invoice Time                                   0         0.0\n",
      "Job Card No                                    0         0.0\n",
      "JobCard Date                                   0         0.0\n",
      "JobCard Time                                   0         0.0\n",
      "KMs Reading                                    0         0.0\n",
      "Labour Total                                   0         0.0\n",
      "Make                                           0         0.0\n",
      "Misc Total                                     0         0.0\n",
      "Model                                          0         0.0\n",
      "OSL Total                                      0         0.0\n",
      "Order Type                                     0         0.0\n",
      "Parts Total                                    0         0.0\n",
      "Pin code                                       0         0.0\n",
      "Plant                                          0         0.0\n",
      "Plant Name1                                    0         0.0\n",
      "Print Status                                   0         0.0\n",
      "Recovrbl Exp                                   0         0.0\n",
      "Total Amt Wtd Tax.                             0         0.0\n",
      "Unnamed: 0                                     0         0.0\n",
      "User ID                                        0         0.0\n"
     ]
    },
    {
     "name": "stderr",
     "output_type": "stream",
     "text": [
      "C:\\Users\\ckatkaa\\AppData\\Local\\Continuum\\anaconda3\\lib\\site-packages\\ipykernel_launcher.py:3: FutureWarning: Sorting because non-concatenation axis is not aligned. A future version\n",
      "of pandas will change to not sort by default.\n",
      "\n",
      "To accept the future behavior, pass 'sort=False'.\n",
      "\n",
      "To retain the current behavior and silence the warning, pass 'sort=True'.\n",
      "\n",
      "  This is separate from the ipykernel package so we can avoid doing imports until\n"
     ]
    }
   ],
   "source": [
    "total=Final_invoice.isnull().sum().sort_values(ascending=False)\n",
    "percentage = (total*100/Final_invoice.isnull().count()).sort_values(ascending=False)\n",
    "missing_data = pd.concat([total,percentage],axis=1,keys=['total_missing_values_per_row','percentage'])\n",
    "print(missing_data)"
   ]
  },
  {
   "cell_type": "code",
   "execution_count": 50,
   "metadata": {},
   "outputs": [],
   "source": [
    "# storing the clean data set\n",
    "Final_invoice.to_csv(r'C:\\Users\\ckatkaa\\Desktop\\jupyter notebook\\Capstone project  Mahindra Group\\Mahindra First Choice Dataset\\Clean Data set\\Clean_Final_invoice.csv')"
   ]
  },
  {
   "cell_type": "code",
   "execution_count": null,
   "metadata": {},
   "outputs": [],
   "source": []
  }
 ],
 "metadata": {
  "kernelspec": {
   "display_name": "Python 3",
   "language": "python",
   "name": "python3"
  },
  "language_info": {
   "codemirror_mode": {
    "name": "ipython",
    "version": 3
   },
   "file_extension": ".py",
   "mimetype": "text/x-python",
   "name": "python",
   "nbconvert_exporter": "python",
   "pygments_lexer": "ipython3",
   "version": "3.7.3"
  }
 },
 "nbformat": 4,
 "nbformat_minor": 2
}
